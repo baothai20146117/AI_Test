{
  "nbformat": 4,
  "nbformat_minor": 0,
  "metadata": {
    "colab": {
      "provenance": []
    },
    "kernelspec": {
      "name": "python3",
      "display_name": "Python 3"
    },
    "language_info": {
      "name": "python"
    },
    "accelerator": "GPU",
    "gpuClass": "standard"
  },
  "cells": [
    {
      "cell_type": "code",
      "execution_count": null,
      "metadata": {
        "id": "_-1jAoPjYYPL"
      },
      "outputs": [],
      "source": []
    },
    {
      "cell_type": "code",
      "source": [
        "from google.colab import drive\n",
        "drive.mount('/content/drive')"
      ],
      "metadata": {
        "colab": {
          "base_uri": "https://localhost:8080/"
        },
        "id": "ki127s0QYoID",
        "outputId": "939798e5-c20a-406f-cfa5-c16438cfade9"
      },
      "execution_count": 2,
      "outputs": [
        {
          "output_type": "stream",
          "name": "stdout",
          "text": [
            "Drive already mounted at /content/drive; to attempt to forcibly remount, call drive.mount(\"/content/drive\", force_remount=True).\n"
          ]
        }
      ]
    },
    {
      "cell_type": "code",
      "source": [
        "# CNN\n",
        "from keras import models\n",
        "from keras.models import Sequential\n",
        "from keras.layers import Dense, Flatten, Conv2D, MaxPooling2D, Normalization, Dropout\n",
        "from keras.layers import LeakyReLU"
      ],
      "metadata": {
        "id": "QkPtLOumY8j_"
      },
      "execution_count": 3,
      "outputs": []
    },
    {
      "cell_type": "code",
      "source": [
        "%cd /content/drive/MyDrive/Kiemtra_AI/VN_Food/"
      ],
      "metadata": {
        "colab": {
          "base_uri": "https://localhost:8080/"
        },
        "id": "9ChknF_9ZMBl",
        "outputId": "3740fe5e-705e-423c-e085-ea21c8d691db"
      },
      "execution_count": 4,
      "outputs": [
        {
          "output_type": "stream",
          "name": "stdout",
          "text": [
            "/content/drive/MyDrive/Kiemtra_AI/VN_Food\n"
          ]
        }
      ]
    },
    {
      "cell_type": "code",
      "source": [
        "#Tạo ra class ImageDataGenerator để chỉnh sửa ảnh\n",
        "import tensorflow as tf\n",
        "from tensorflow.keras.preprocessing.image import ImageDataGenerator\n",
        "train_datagen = ImageDataGenerator(rescale = 1./255, shear_range = 0.2, zoom_range =0.2, horizontal_flip = True)"
      ],
      "metadata": {
        "id": "xI4ha5UlZUd4"
      },
      "execution_count": 5,
      "outputs": []
    },
    {
      "cell_type": "code",
      "source": [
        "training_set = train_datagen.flow_from_directory('/content/drive/MyDrive/Kiemtra_AI/VN_Food/Train', target_size = (150,150), batch_size = 32, class_mode ='categorical')"
      ],
      "metadata": {
        "colab": {
          "base_uri": "https://localhost:8080/"
        },
        "id": "E9CGrAWgZXIV",
        "outputId": "555695ad-2839-46dd-f3c8-80067aaf53a3"
      },
      "execution_count": 7,
      "outputs": [
        {
          "output_type": "stream",
          "name": "stdout",
          "text": [
            "Found 5863 images belonging to 10 classes.\n"
          ]
        }
      ]
    },
    {
      "cell_type": "code",
      "source": [
        "training_set.class_indices"
      ],
      "metadata": {
        "colab": {
          "base_uri": "https://localhost:8080/"
        },
        "id": "-zxndlccZgy6",
        "outputId": "139ac592-e264-43a8-8980-f032f1fa3c4f"
      },
      "execution_count": 8,
      "outputs": [
        {
          "output_type": "execute_result",
          "data": {
            "text/plain": [
              "{'Banh beo': 0,\n",
              " 'Banh chung': 1,\n",
              " 'Banh mi': 2,\n",
              " 'Banh pia': 3,\n",
              " 'Banh xeo': 4,\n",
              " 'Bun rieu': 5,\n",
              " 'Com tam': 6,\n",
              " 'Goi cuon': 7,\n",
              " 'Pho': 8,\n",
              " 'Xoi xeo': 9}"
            ]
          },
          "metadata": {},
          "execution_count": 8
        }
      ]
    },
    {
      "cell_type": "code",
      "source": [
        "# Tạo ra mạng CNN để train mô hình\n",
        "model=Sequential()\n",
        "\n",
        "# Tích chập 32 lần với mỗi lần là 3 hàng 3 cột\n",
        "model.add(Conv2D(32,(3,3), activation='relu', kernel_initializer='he_uniform', padding='same',input_shape=(150,150,3))) \n",
        "#ham loai bo\n",
        "model.add(LeakyReLU(alpha = 0.1))\n",
        "# Lấy phần tử lớn nhất ở trong 2 hàng và 2 cột\n",
        "model.add(MaxPooling2D(2,2))\n",
        "\n",
        "# Tích chập 64 lần với mỗi lần là 3 hàng 3 cột\n",
        "model.add(Conv2D(64,(3,3), activation='relu', kernel_initializer='he_uniform', padding='same')) \n",
        "#ham loai bo\n",
        "model.add(LeakyReLU(alpha = 0.1))\n",
        "# Lấy phần tử lớn nhất ở trong 2 hàng và 2 cột\n",
        "model.add(MaxPooling2D(2,2))\n",
        "\n",
        "# Tích chập 128 lần với mỗi lần là 3 hàng 3 cột\n",
        "model.add(Conv2D(128,(3,3), activation='relu', kernel_initializer='he_uniform', padding='same')) \n",
        "#ham loai bo\n",
        "model.add(LeakyReLU(alpha = 0.1))\n",
        "# Lấy phần tử lớn nhất ở trong 2 hàng và 2 cột\n",
        "model.add(MaxPooling2D(2,2))\n",
        "\n",
        "\n",
        "# Duỗi thẳng dữ liệu \n",
        "model.add(Flatten())\n",
        "\n",
        "# Tạo lớp thứ nhất với 256 tín hiệu ra\n",
        "model.add(Dense(256,activation='relu',kernel_initializer='he_uniform'))\n",
        "# Tạo lớp thứ hai với 3 tín hiệu ra\n",
        "model.add(Dense(10,activation='softmax'))\n",
        "model.summary()"
      ],
      "metadata": {
        "colab": {
          "base_uri": "https://localhost:8080/"
        },
        "id": "PDHS_NADZ9uX",
        "outputId": "f6743796-a7ac-448f-f725-570690353951"
      },
      "execution_count": 9,
      "outputs": [
        {
          "output_type": "stream",
          "name": "stdout",
          "text": [
            "Model: \"sequential\"\n",
            "_________________________________________________________________\n",
            " Layer (type)                Output Shape              Param #   \n",
            "=================================================================\n",
            " conv2d (Conv2D)             (None, 150, 150, 32)      896       \n",
            "                                                                 \n",
            " leaky_re_lu (LeakyReLU)     (None, 150, 150, 32)      0         \n",
            "                                                                 \n",
            " max_pooling2d (MaxPooling2D  (None, 75, 75, 32)       0         \n",
            " )                                                               \n",
            "                                                                 \n",
            " conv2d_1 (Conv2D)           (None, 75, 75, 64)        18496     \n",
            "                                                                 \n",
            " leaky_re_lu_1 (LeakyReLU)   (None, 75, 75, 64)        0         \n",
            "                                                                 \n",
            " max_pooling2d_1 (MaxPooling  (None, 37, 37, 64)       0         \n",
            " 2D)                                                             \n",
            "                                                                 \n",
            " conv2d_2 (Conv2D)           (None, 37, 37, 128)       73856     \n",
            "                                                                 \n",
            " leaky_re_lu_2 (LeakyReLU)   (None, 37, 37, 128)       0         \n",
            "                                                                 \n",
            " max_pooling2d_2 (MaxPooling  (None, 18, 18, 128)      0         \n",
            " 2D)                                                             \n",
            "                                                                 \n",
            " flatten (Flatten)           (None, 41472)             0         \n",
            "                                                                 \n",
            " dense (Dense)               (None, 256)               10617088  \n",
            "                                                                 \n",
            " dense_1 (Dense)             (None, 10)                2570      \n",
            "                                                                 \n",
            "=================================================================\n",
            "Total params: 10,712,906\n",
            "Trainable params: 10,712,906\n",
            "Non-trainable params: 0\n",
            "_________________________________________________________________\n"
          ]
        }
      ]
    },
    {
      "cell_type": "code",
      "source": [
        "from keras.utils import to_categorical # one hot encoding cho output\n",
        "# Biên dịch \n",
        "model.compile(optimizer='adam',loss='categorical_crossentropy',metrics=['accuracy'])\n",
        "# Gán biến lại để vẽ đồ thị, với 500 lần học (epochs), mỗi lần học thì chỉ học␣128 dữ liệu (batch_size)\n",
        "history=model.fit(training_set,epochs=20,batch_size=128,verbose=1)"
      ],
      "metadata": {
        "colab": {
          "base_uri": "https://localhost:8080/"
        },
        "id": "neDLp_HRaGEt",
        "outputId": "00cff409-c8ac-4cf3-d858-8981450639f3"
      },
      "execution_count": 10,
      "outputs": [
        {
          "output_type": "stream",
          "name": "stdout",
          "text": [
            "Epoch 1/20\n",
            "184/184 [==============================] - 2114s 11s/step - loss: 2.8882 - accuracy: 0.2514\n",
            "Epoch 2/20\n",
            "184/184 [==============================] - 142s 769ms/step - loss: 1.7551 - accuracy: 0.3918\n",
            "Epoch 3/20\n",
            "184/184 [==============================] - 141s 763ms/step - loss: 1.5897 - accuracy: 0.4564\n",
            "Epoch 4/20\n",
            "184/184 [==============================] - 140s 762ms/step - loss: 1.4167 - accuracy: 0.5240\n",
            "Epoch 5/20\n",
            "184/184 [==============================] - 140s 760ms/step - loss: 1.2920 - accuracy: 0.5748\n",
            "Epoch 6/20\n",
            "184/184 [==============================] - 139s 756ms/step - loss: 1.1957 - accuracy: 0.6004\n",
            "Epoch 7/20\n",
            "184/184 [==============================] - 140s 759ms/step - loss: 1.0603 - accuracy: 0.6502\n",
            "Epoch 8/20\n",
            "184/184 [==============================] - 139s 755ms/step - loss: 0.9393 - accuracy: 0.6872\n",
            "Epoch 9/20\n",
            "184/184 [==============================] - 139s 752ms/step - loss: 0.8532 - accuracy: 0.7174\n",
            "Epoch 10/20\n",
            "184/184 [==============================] - 138s 752ms/step - loss: 0.7597 - accuracy: 0.7469\n",
            "Epoch 11/20\n",
            "184/184 [==============================] - 139s 755ms/step - loss: 0.6640 - accuracy: 0.7810\n",
            "Epoch 12/20\n",
            "184/184 [==============================] - 138s 749ms/step - loss: 0.5706 - accuracy: 0.8132\n",
            "Epoch 13/20\n",
            "184/184 [==============================] - 138s 749ms/step - loss: 0.5282 - accuracy: 0.8245\n",
            "Epoch 14/20\n",
            "184/184 [==============================] - 138s 752ms/step - loss: 0.4749 - accuracy: 0.8427\n",
            "Epoch 15/20\n",
            "184/184 [==============================] - 138s 753ms/step - loss: 0.4149 - accuracy: 0.8665\n",
            "Epoch 16/20\n",
            "184/184 [==============================] - 139s 754ms/step - loss: 0.3669 - accuracy: 0.8825\n",
            "Epoch 17/20\n",
            "184/184 [==============================] - 138s 753ms/step - loss: 0.3021 - accuracy: 0.9009\n",
            "Epoch 18/20\n",
            "184/184 [==============================] - 138s 752ms/step - loss: 0.2924 - accuracy: 0.9060\n",
            "Epoch 19/20\n",
            "184/184 [==============================] - 138s 753ms/step - loss: 0.2556 - accuracy: 0.9169\n",
            "Epoch 20/20\n",
            "184/184 [==============================] - 138s 748ms/step - loss: 0.2584 - accuracy: 0.9132\n"
          ]
        }
      ]
    }
  ]
}
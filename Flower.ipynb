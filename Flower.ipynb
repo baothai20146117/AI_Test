{
  "nbformat": 4,
  "nbformat_minor": 0,
  "metadata": {
    "colab": {
      "provenance": []
    },
    "kernelspec": {
      "name": "python3",
      "display_name": "Python 3"
    },
    "language_info": {
      "name": "python"
    },
    "accelerator": "GPU",
    "gpuClass": "standard"
  },
  "cells": [
    {
      "cell_type": "code",
      "execution_count": 1,
      "metadata": {
        "id": "TMHzmRjyp_NU"
      },
      "outputs": [],
      "source": [
        "from keras import models\n",
        "from keras.models import Sequential\n",
        "from keras.layers import Dense, Flatten, Conv2D, MaxPooling2D, Normalization, Dropout\n",
        "from keras.layers import LeakyReLU"
      ]
    },
    {
      "cell_type": "code",
      "source": [
        "# Tạo ra class ImageDataGenerator để chỉnh sửa ảnh \n",
        "import tensorflow as tf\n",
        "from tensorflow.keras.preprocessing.image import ImageDataGenerator\n",
        "train_datagen = ImageDataGenerator(rescale = 1./255, shear_range = 0.2, zoom_range =0.2, horizontal_flip = True)"
      ],
      "metadata": {
        "id": "QQ71zorDx3eM"
      },
      "execution_count": 2,
      "outputs": []
    },
    {
      "cell_type": "code",
      "source": [
        "from keras.callbacks import EarlyStopping, ModelCheckpoint\n",
        "from keras.utils import to_categorical # one hot encoding cho output\n"
      ],
      "metadata": {
        "id": "jmi-FIE2x4rV"
      },
      "execution_count": 3,
      "outputs": []
    },
    {
      "cell_type": "code",
      "source": [
        "%cd /content/drive/MyDrive/Kiemtra_AI/5_kinds_of_flowers/"
      ],
      "metadata": {
        "colab": {
          "base_uri": "https://localhost:8080/"
        },
        "id": "RpHpyG9kx8oO",
        "outputId": "071e61df-94c9-4940-ea05-5517999f42b8"
      },
      "execution_count": 5,
      "outputs": [
        {
          "output_type": "stream",
          "name": "stdout",
          "text": [
            "/content/drive/MyDrive/Kiemtra_AI/5_kinds_of_flowers\n"
          ]
        }
      ]
    },
    {
      "cell_type": "code",
      "source": [
        "training_set = train_datagen.flow_from_directory('/content/drive/MyDrive/Kiemtra_AI/5_kinds_of_flowers/Train', target_size = (150,150), batch_size = 32, class_mode ='categorical')"
      ],
      "metadata": {
        "colab": {
          "base_uri": "https://localhost:8080/"
        },
        "id": "Scwv3lhAyDXn",
        "outputId": "7bd6294a-8d9d-41b6-b16e-4d177b9729b6"
      },
      "execution_count": 17,
      "outputs": [
        {
          "output_type": "stream",
          "name": "stdout",
          "text": [
            "Found 2448 images belonging to 5 classes.\n"
          ]
        }
      ]
    },
    {
      "cell_type": "code",
      "source": [
        "training_set.class_indices"
      ],
      "metadata": {
        "colab": {
          "base_uri": "https://localhost:8080/"
        },
        "id": "xM1WryqRyZNt",
        "outputId": "4bcb1264-cf18-40d6-a153-46c051363e36"
      },
      "execution_count": 7,
      "outputs": [
        {
          "output_type": "execute_result",
          "data": {
            "text/plain": [
              "{'apricot flower': 0, 'daisy pink': 1, 'lotus': 2, 'rose': 3, 'water lily': 4}"
            ]
          },
          "metadata": {},
          "execution_count": 7
        }
      ]
    },
    {
      "cell_type": "code",
      "source": [
        "# Tạo ra mạng CNN để train mô hình\n",
        "model=Sequential()\n",
        "\n",
        "# Tích chập 32 lần với mỗi lần là 3 hàng 3 cột\n",
        "model.add(Conv2D(32,(3,3), activation='relu', kernel_initializer='he_uniform', padding='same',input_shape=(150,150,3))) \n",
        "#ham loai bo\n",
        "model.add(LeakyReLU(alpha = 0.1))\n",
        "# Lấy phần tử lớn nhất ở trong 2 hàng và 2 cột\n",
        "model.add(MaxPooling2D(2,2))\n",
        "\n",
        "# Tích chập 64 lần với mỗi lần là 3 hàng 3 cột\n",
        "model.add(Conv2D(64,(3,3), activation='relu', kernel_initializer='he_uniform', padding='same')) \n",
        "#ham loai bo\n",
        "model.add(LeakyReLU(alpha = 0.1))\n",
        "# Lấy phần tử lớn nhất ở trong 2 hàng và 2 cột\n",
        "model.add(MaxPooling2D(2,2))\n",
        "\n",
        "# Tích chập 128 lần với mỗi lần là 3 hàng 3 cột\n",
        "model.add(Conv2D(128,(3,3), activation='relu', kernel_initializer='he_uniform', padding='same')) \n",
        "#ham loai bo\n",
        "model.add(LeakyReLU(alpha = 0.1))\n",
        "# Lấy phần tử lớn nhất ở trong 2 hàng và 2 cột\n",
        "model.add(MaxPooling2D(2,2))\n",
        "\n",
        "\n",
        "# Duỗi thẳng dữ liệu \n",
        "model.add(Flatten())\n",
        "\n",
        "# Tạo lớp thứ nhất với 256 tín hiệu ra\n",
        "model.add(Dense(256,activation='relu',kernel_initializer='he_uniform'))\n",
        "model.add(LeakyReLU(alpha = 0.1))\n",
        "# Tạo lớp thứ hai với 3 tín hiệu ra\n",
        "model.add(Dense(5,activation='softmax'))\n",
        "model.summary()"
      ],
      "metadata": {
        "colab": {
          "base_uri": "https://localhost:8080/"
        },
        "id": "VE6ga_R9yjIi",
        "outputId": "dd9a8eac-4f1f-4867-b96a-3977defa456e"
      },
      "execution_count": 19,
      "outputs": [
        {
          "output_type": "stream",
          "name": "stdout",
          "text": [
            "Model: \"sequential\"\n",
            "_________________________________________________________________\n",
            " Layer (type)                Output Shape              Param #   \n",
            "=================================================================\n",
            " conv2d (Conv2D)             (None, 150, 150, 32)      896       \n",
            "                                                                 \n",
            " leaky_re_lu (LeakyReLU)     (None, 150, 150, 32)      0         \n",
            "                                                                 \n",
            " max_pooling2d (MaxPooling2D  (None, 75, 75, 32)       0         \n",
            " )                                                               \n",
            "                                                                 \n",
            " conv2d_1 (Conv2D)           (None, 75, 75, 64)        18496     \n",
            "                                                                 \n",
            " leaky_re_lu_1 (LeakyReLU)   (None, 75, 75, 64)        0         \n",
            "                                                                 \n",
            " max_pooling2d_1 (MaxPooling  (None, 37, 37, 64)       0         \n",
            " 2D)                                                             \n",
            "                                                                 \n",
            " conv2d_2 (Conv2D)           (None, 37, 37, 128)       73856     \n",
            "                                                                 \n",
            " leaky_re_lu_2 (LeakyReLU)   (None, 37, 37, 128)       0         \n",
            "                                                                 \n",
            " max_pooling2d_2 (MaxPooling  (None, 18, 18, 128)      0         \n",
            " 2D)                                                             \n",
            "                                                                 \n",
            " flatten (Flatten)           (None, 41472)             0         \n",
            "                                                                 \n",
            " dense (Dense)               (None, 256)               10617088  \n",
            "                                                                 \n",
            " leaky_re_lu_3 (LeakyReLU)   (None, 256)               0         \n",
            "                                                                 \n",
            " dense_1 (Dense)             (None, 5)                 1285      \n",
            "                                                                 \n",
            "=================================================================\n",
            "Total params: 10,711,621\n",
            "Trainable params: 10,711,621\n",
            "Non-trainable params: 0\n",
            "_________________________________________________________________\n"
          ]
        }
      ]
    },
    {
      "cell_type": "code",
      "source": [
        "# Biên dịch \n",
        "model.compile(optimizer='adam',loss='categorical_crossentropy',metrics=['accuracy'])\n",
        "# Gán biến lại để vẽ đồ thị, với 50 lần học (epochs), mỗi lần học thì chỉ học␣128 dữ liệu (batch_size)\n",
        "history=model.fit(training_set,epochs=30,batch_size=64,verbose=1)"
      ],
      "metadata": {
        "colab": {
          "base_uri": "https://localhost:8080/"
        },
        "id": "Sn_HbCHRyo7b",
        "outputId": "30794107-1c7f-4c0a-d99e-5f5ac2fe1166"
      },
      "execution_count": 20,
      "outputs": [
        {
          "output_type": "stream",
          "name": "stdout",
          "text": [
            "Epoch 1/30\n",
            "77/77 [==============================] - 505s 6s/step - loss: 1.7476 - accuracy: 0.6270\n",
            "Epoch 2/30\n",
            "77/77 [==============================] - 30s 395ms/step - loss: 0.7895 - accuracy: 0.7034\n",
            "Epoch 3/30\n",
            "77/77 [==============================] - 31s 405ms/step - loss: 0.6591 - accuracy: 0.7475\n",
            "Epoch 4/30\n",
            "77/77 [==============================] - 30s 394ms/step - loss: 0.5902 - accuracy: 0.7908\n",
            "Epoch 5/30\n",
            "77/77 [==============================] - 32s 409ms/step - loss: 0.5256 - accuracy: 0.8064\n",
            "Epoch 6/30\n",
            "77/77 [==============================] - 32s 411ms/step - loss: 0.4663 - accuracy: 0.8321\n",
            "Epoch 7/30\n",
            "77/77 [==============================] - 31s 397ms/step - loss: 0.4253 - accuracy: 0.8533\n",
            "Epoch 8/30\n",
            "77/77 [==============================] - 29s 375ms/step - loss: 0.3575 - accuracy: 0.8697\n",
            "Epoch 9/30\n",
            "77/77 [==============================] - 29s 373ms/step - loss: 0.3732 - accuracy: 0.8697\n",
            "Epoch 10/30\n",
            "77/77 [==============================] - 28s 368ms/step - loss: 0.2649 - accuracy: 0.9036\n",
            "Epoch 11/30\n",
            "77/77 [==============================] - 28s 368ms/step - loss: 0.2491 - accuracy: 0.9118\n",
            "Epoch 12/30\n",
            "77/77 [==============================] - 28s 365ms/step - loss: 0.1936 - accuracy: 0.9301\n",
            "Epoch 13/30\n",
            "77/77 [==============================] - 29s 374ms/step - loss: 0.1580 - accuracy: 0.9481\n",
            "Epoch 14/30\n",
            "77/77 [==============================] - 28s 370ms/step - loss: 0.1622 - accuracy: 0.9412\n",
            "Epoch 15/30\n",
            "77/77 [==============================] - 28s 366ms/step - loss: 0.1143 - accuracy: 0.9632\n",
            "Epoch 16/30\n",
            "77/77 [==============================] - 29s 371ms/step - loss: 0.1066 - accuracy: 0.9604\n",
            "Epoch 17/30\n",
            "77/77 [==============================] - 29s 381ms/step - loss: 0.1566 - accuracy: 0.9473\n",
            "Epoch 18/30\n",
            "77/77 [==============================] - 29s 369ms/step - loss: 0.0962 - accuracy: 0.9706\n",
            "Epoch 19/30\n",
            "77/77 [==============================] - 28s 366ms/step - loss: 0.1078 - accuracy: 0.9636\n",
            "Epoch 20/30\n",
            "77/77 [==============================] - 28s 365ms/step - loss: 0.0874 - accuracy: 0.9730\n",
            "Epoch 21/30\n",
            "77/77 [==============================] - 28s 362ms/step - loss: 0.1100 - accuracy: 0.9657\n",
            "Epoch 22/30\n",
            "77/77 [==============================] - 28s 360ms/step - loss: 0.0699 - accuracy: 0.9779\n",
            "Epoch 23/30\n",
            "77/77 [==============================] - 28s 361ms/step - loss: 0.0568 - accuracy: 0.9828\n",
            "Epoch 24/30\n",
            "77/77 [==============================] - 28s 360ms/step - loss: 0.0536 - accuracy: 0.9796\n",
            "Epoch 25/30\n",
            "77/77 [==============================] - 28s 362ms/step - loss: 0.0659 - accuracy: 0.9751\n",
            "Epoch 26/30\n",
            "77/77 [==============================] - 28s 361ms/step - loss: 0.0657 - accuracy: 0.9808\n",
            "Epoch 27/30\n",
            "77/77 [==============================] - 28s 362ms/step - loss: 0.0719 - accuracy: 0.9775\n",
            "Epoch 28/30\n",
            "77/77 [==============================] - 28s 361ms/step - loss: 0.0502 - accuracy: 0.9808\n",
            "Epoch 29/30\n",
            "77/77 [==============================] - 28s 359ms/step - loss: 0.0347 - accuracy: 0.9890\n",
            "Epoch 30/30\n",
            "77/77 [==============================] - 27s 351ms/step - loss: 0.0249 - accuracy: 0.9926\n"
          ]
        }
      ]
    }
  ]
}